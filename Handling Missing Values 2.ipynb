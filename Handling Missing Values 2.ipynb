{
 "cells": [
  {
   "cell_type": "code",
   "execution_count": 1,
   "id": "24688df5",
   "metadata": {},
   "outputs": [],
   "source": [
    "import numpy as np\n",
    "import pandas as pd\n",
    "import matplotlib.pyplot as plt\n",
    "import seaborn as sns\n",
    "\n",
    "import warnings\n",
    "warnings.filterwarnings(\"ignore\")"
   ]
  },
  {
   "cell_type": "code",
   "execution_count": 2,
   "id": "88d990eb",
   "metadata": {},
   "outputs": [
    {
     "data": {
      "text/html": [
       "<div>\n",
       "<style scoped>\n",
       "    .dataframe tbody tr th:only-of-type {\n",
       "        vertical-align: middle;\n",
       "    }\n",
       "\n",
       "    .dataframe tbody tr th {\n",
       "        vertical-align: top;\n",
       "    }\n",
       "\n",
       "    .dataframe thead th {\n",
       "        text-align: right;\n",
       "    }\n",
       "</style>\n",
       "<table border=\"1\" class=\"dataframe\">\n",
       "  <thead>\n",
       "    <tr style=\"text-align: right;\">\n",
       "      <th></th>\n",
       "      <th>Name</th>\n",
       "      <th>Python</th>\n",
       "      <th>Machine Learning</th>\n",
       "      <th>Age</th>\n",
       "      <th>AI</th>\n",
       "      <th>NLP</th>\n",
       "      <th>Cv</th>\n",
       "    </tr>\n",
       "  </thead>\n",
       "  <tbody>\n",
       "    <tr>\n",
       "      <th>0</th>\n",
       "      <td>jay</td>\n",
       "      <td>90</td>\n",
       "      <td>?</td>\n",
       "      <td>23</td>\n",
       "      <td>90</td>\n",
       "      <td>?</td>\n",
       "      <td>23</td>\n",
       "    </tr>\n",
       "    <tr>\n",
       "      <th>1</th>\n",
       "      <td>raj</td>\n",
       "      <td>missing</td>\n",
       "      <td>89</td>\n",
       "      <td>NaN</td>\n",
       "      <td>missing</td>\n",
       "      <td>89</td>\n",
       "      <td>NaN</td>\n",
       "    </tr>\n",
       "    <tr>\n",
       "      <th>2</th>\n",
       "      <td>kumar</td>\n",
       "      <td>78</td>\n",
       "      <td>78</td>\n",
       "      <td>?</td>\n",
       "      <td>78</td>\n",
       "      <td>78</td>\n",
       "      <td>?</td>\n",
       "    </tr>\n",
       "    <tr>\n",
       "      <th>3</th>\n",
       "      <td>suraj</td>\n",
       "      <td>NaN</td>\n",
       "      <td>NaN</td>\n",
       "      <td>missing</td>\n",
       "      <td>NaN</td>\n",
       "      <td>NaN</td>\n",
       "      <td>missing</td>\n",
       "    </tr>\n",
       "    <tr>\n",
       "      <th>4</th>\n",
       "      <td>pawan</td>\n",
       "      <td>missing</td>\n",
       "      <td>NaN</td>\n",
       "      <td>21</td>\n",
       "      <td>missing</td>\n",
       "      <td>NaN</td>\n",
       "      <td>21</td>\n",
       "    </tr>\n",
       "    <tr>\n",
       "      <th>5</th>\n",
       "      <td>viraj</td>\n",
       "      <td>65</td>\n",
       "      <td>56</td>\n",
       "      <td>22</td>\n",
       "      <td>65</td>\n",
       "      <td>56</td>\n",
       "      <td>22</td>\n",
       "    </tr>\n",
       "    <tr>\n",
       "      <th>6</th>\n",
       "      <td>vijay</td>\n",
       "      <td>45</td>\n",
       "      <td>67</td>\n",
       "      <td>?</td>\n",
       "      <td>45</td>\n",
       "      <td>67</td>\n",
       "      <td>?</td>\n",
       "    </tr>\n",
       "    <tr>\n",
       "      <th>7</th>\n",
       "      <td>sumit</td>\n",
       "      <td>80</td>\n",
       "      <td>45</td>\n",
       "      <td>24</td>\n",
       "      <td>80</td>\n",
       "      <td>45</td>\n",
       "      <td>24</td>\n",
       "    </tr>\n",
       "    <tr>\n",
       "      <th>8</th>\n",
       "      <td>akash</td>\n",
       "      <td>70</td>\n",
       "      <td>67</td>\n",
       "      <td>missing</td>\n",
       "      <td>70</td>\n",
       "      <td>67</td>\n",
       "      <td>missing</td>\n",
       "    </tr>\n",
       "    <tr>\n",
       "      <th>9</th>\n",
       "      <td>sujit</td>\n",
       "      <td>NaN</td>\n",
       "      <td>NaN</td>\n",
       "      <td>22</td>\n",
       "      <td>NaN</td>\n",
       "      <td>NaN</td>\n",
       "      <td>22</td>\n",
       "    </tr>\n",
       "  </tbody>\n",
       "</table>\n",
       "</div>"
      ],
      "text/plain": [
       "    Name   Python Machine Learning      Age       AI  NLP       Cv\n",
       "0    jay       90                ?       23       90    ?       23\n",
       "1    raj  missing               89      NaN  missing   89      NaN\n",
       "2  kumar       78               78        ?       78   78        ?\n",
       "3  suraj      NaN              NaN  missing      NaN  NaN  missing\n",
       "4  pawan  missing              NaN       21  missing  NaN       21\n",
       "5  viraj       65               56       22       65   56       22\n",
       "6  vijay       45               67        ?       45   67        ?\n",
       "7  sumit       80               45       24       80   45       24\n",
       "8  akash       70               67  missing       70   67  missing\n",
       "9  sujit      NaN              NaN       22      NaN  NaN       22"
      ]
     },
     "execution_count": 2,
     "metadata": {},
     "output_type": "execute_result"
    }
   ],
   "source": [
    "df=pd.read_csv(\"data2.csv\")\n",
    "df"
   ]
  },
  {
   "cell_type": "code",
   "execution_count": 3,
   "id": "d3f337a6",
   "metadata": {},
   "outputs": [
    {
     "data": {
      "text/plain": [
       "67    2\n",
       "?     1\n",
       "89    1\n",
       "78    1\n",
       "56    1\n",
       "45    1\n",
       "Name: Machine Learning, dtype: int64"
      ]
     },
     "execution_count": 3,
     "metadata": {},
     "output_type": "execute_result"
    }
   ],
   "source": [
    "df[\"Machine Learning\"].value_counts()"
   ]
  },
  {
   "cell_type": "code",
   "execution_count": 4,
   "id": "228f5329",
   "metadata": {},
   "outputs": [
    {
     "data": {
      "text/plain": [
       "?          2\n",
       "missing    2\n",
       "22         2\n",
       "23         1\n",
       "21         1\n",
       "24         1\n",
       "Name: Age, dtype: int64"
      ]
     },
     "execution_count": 4,
     "metadata": {},
     "output_type": "execute_result"
    }
   ],
   "source": [
    "df[\"Age\"].value_counts()"
   ]
  },
  {
   "cell_type": "code",
   "execution_count": 5,
   "id": "46c1749d",
   "metadata": {},
   "outputs": [
    {
     "data": {
      "text/plain": [
       "missing    2\n",
       "90         1\n",
       "78         1\n",
       "65         1\n",
       "45         1\n",
       "80         1\n",
       "70         1\n",
       "Name: AI, dtype: int64"
      ]
     },
     "execution_count": 5,
     "metadata": {},
     "output_type": "execute_result"
    }
   ],
   "source": [
    "df[\"AI\"].value_counts()"
   ]
  },
  {
   "cell_type": "code",
   "execution_count": 6,
   "id": "621f87f6",
   "metadata": {},
   "outputs": [
    {
     "data": {
      "text/plain": [
       "67    2\n",
       "?     1\n",
       "89    1\n",
       "78    1\n",
       "56    1\n",
       "45    1\n",
       "Name: NLP, dtype: int64"
      ]
     },
     "execution_count": 6,
     "metadata": {},
     "output_type": "execute_result"
    }
   ],
   "source": [
    "df[\"NLP\"].value_counts()"
   ]
  },
  {
   "cell_type": "code",
   "execution_count": 7,
   "id": "046def5e",
   "metadata": {},
   "outputs": [
    {
     "data": {
      "text/plain": [
       "?          2\n",
       "missing    2\n",
       "22         2\n",
       "23         1\n",
       "21         1\n",
       "24         1\n",
       "Name: Cv, dtype: int64"
      ]
     },
     "execution_count": 7,
     "metadata": {},
     "output_type": "execute_result"
    }
   ],
   "source": [
    "df[\"Cv\"].value_counts()"
   ]
  },
  {
   "cell_type": "code",
   "execution_count": 8,
   "id": "f75dcac8",
   "metadata": {},
   "outputs": [
    {
     "data": {
      "text/html": [
       "<div>\n",
       "<style scoped>\n",
       "    .dataframe tbody tr th:only-of-type {\n",
       "        vertical-align: middle;\n",
       "    }\n",
       "\n",
       "    .dataframe tbody tr th {\n",
       "        vertical-align: top;\n",
       "    }\n",
       "\n",
       "    .dataframe thead th {\n",
       "        text-align: right;\n",
       "    }\n",
       "</style>\n",
       "<table border=\"1\" class=\"dataframe\">\n",
       "  <thead>\n",
       "    <tr style=\"text-align: right;\">\n",
       "      <th></th>\n",
       "      <th>Name</th>\n",
       "      <th>Python</th>\n",
       "      <th>Machine Learning</th>\n",
       "      <th>Age</th>\n",
       "      <th>AI</th>\n",
       "      <th>NLP</th>\n",
       "      <th>Cv</th>\n",
       "    </tr>\n",
       "  </thead>\n",
       "  <tbody>\n",
       "    <tr>\n",
       "      <th>count</th>\n",
       "      <td>10</td>\n",
       "      <td>8</td>\n",
       "      <td>7</td>\n",
       "      <td>9</td>\n",
       "      <td>8</td>\n",
       "      <td>7</td>\n",
       "      <td>9</td>\n",
       "    </tr>\n",
       "    <tr>\n",
       "      <th>unique</th>\n",
       "      <td>10</td>\n",
       "      <td>7</td>\n",
       "      <td>6</td>\n",
       "      <td>6</td>\n",
       "      <td>7</td>\n",
       "      <td>6</td>\n",
       "      <td>6</td>\n",
       "    </tr>\n",
       "    <tr>\n",
       "      <th>top</th>\n",
       "      <td>jay</td>\n",
       "      <td>missing</td>\n",
       "      <td>67</td>\n",
       "      <td>?</td>\n",
       "      <td>missing</td>\n",
       "      <td>67</td>\n",
       "      <td>?</td>\n",
       "    </tr>\n",
       "    <tr>\n",
       "      <th>freq</th>\n",
       "      <td>1</td>\n",
       "      <td>2</td>\n",
       "      <td>2</td>\n",
       "      <td>2</td>\n",
       "      <td>2</td>\n",
       "      <td>2</td>\n",
       "      <td>2</td>\n",
       "    </tr>\n",
       "  </tbody>\n",
       "</table>\n",
       "</div>"
      ],
      "text/plain": [
       "       Name   Python Machine Learning Age       AI NLP Cv\n",
       "count    10        8                7   9        8   7  9\n",
       "unique   10        7                6   6        7   6  6\n",
       "top     jay  missing               67   ?  missing  67  ?\n",
       "freq      1        2                2   2        2   2  2"
      ]
     },
     "execution_count": 8,
     "metadata": {},
     "output_type": "execute_result"
    }
   ],
   "source": [
    "df.describe()"
   ]
  },
  {
   "cell_type": "code",
   "execution_count": 9,
   "id": "77e73b9f",
   "metadata": {},
   "outputs": [
    {
     "name": "stdout",
     "output_type": "stream",
     "text": [
      "<class 'pandas.core.frame.DataFrame'>\n",
      "RangeIndex: 10 entries, 0 to 9\n",
      "Data columns (total 7 columns):\n",
      " #   Column            Non-Null Count  Dtype \n",
      "---  ------            --------------  ----- \n",
      " 0   Name              10 non-null     object\n",
      " 1   Python            8 non-null      object\n",
      " 2   Machine Learning  7 non-null      object\n",
      " 3   Age               9 non-null      object\n",
      " 4   AI                8 non-null      object\n",
      " 5   NLP               7 non-null      object\n",
      " 6   Cv                9 non-null      object\n",
      "dtypes: object(7)\n",
      "memory usage: 692.0+ bytes\n"
     ]
    }
   ],
   "source": [
    "df.info()"
   ]
  },
  {
   "cell_type": "code",
   "execution_count": 10,
   "id": "ec43d60d",
   "metadata": {},
   "outputs": [],
   "source": [
    "df[\"Python\"].replace(\"?\",np.nan,inplace=True)"
   ]
  },
  {
   "cell_type": "code",
   "execution_count": 17,
   "id": "b0a8e597",
   "metadata": {},
   "outputs": [],
   "source": [
    "df[\"Python\"].replace(\"missing\",np.nan,inplace=True)"
   ]
  },
  {
   "cell_type": "code",
   "execution_count": 11,
   "id": "0cfda0d7",
   "metadata": {},
   "outputs": [],
   "source": [
    "df[\"Machine Learning\"].replace(\"?\",np.nan,inplace=True)"
   ]
  },
  {
   "cell_type": "code",
   "execution_count": 12,
   "id": "606389c5",
   "metadata": {},
   "outputs": [],
   "source": [
    "df[\"Age\"].replace(\"?\",np.nan,inplace=True)"
   ]
  },
  {
   "cell_type": "code",
   "execution_count": 19,
   "id": "4517e8ae",
   "metadata": {},
   "outputs": [],
   "source": [
    "df[\"Age\"].replace(\"missing\",np.nan,inplace=True)"
   ]
  },
  {
   "cell_type": "code",
   "execution_count": 13,
   "id": "cae8bfe6",
   "metadata": {},
   "outputs": [],
   "source": [
    "df[\"AI\"].replace(\"?\",np.nan,inplace=True)"
   ]
  },
  {
   "cell_type": "code",
   "execution_count": 20,
   "id": "7d59fb33",
   "metadata": {},
   "outputs": [],
   "source": [
    "df[\"AI\"].replace(\"missing\",np.nan,inplace=True)"
   ]
  },
  {
   "cell_type": "code",
   "execution_count": 14,
   "id": "9c58366c",
   "metadata": {},
   "outputs": [],
   "source": [
    "df[\"NLP\"].replace(\"?\",np.nan,inplace=True)"
   ]
  },
  {
   "cell_type": "code",
   "execution_count": 15,
   "id": "e57f09e2",
   "metadata": {},
   "outputs": [],
   "source": [
    "df[\"Cv\"].replace(\"?\",np.nan,inplace=True)"
   ]
  },
  {
   "cell_type": "code",
   "execution_count": 21,
   "id": "486de4b1",
   "metadata": {},
   "outputs": [],
   "source": [
    "df[\"Cv\"].replace(\"missing\",np.nan,inplace=True)"
   ]
  },
  {
   "cell_type": "code",
   "execution_count": 18,
   "id": "8259d2c6",
   "metadata": {},
   "outputs": [],
   "source": [
    "df[\"Python\"]=df[\"Python\"].astype(\"float64\")"
   ]
  },
  {
   "cell_type": "code",
   "execution_count": 22,
   "id": "beff1022",
   "metadata": {},
   "outputs": [],
   "source": [
    "df[\"Machine Learning\"]=df[\"Machine Learning\"].astype(\"float64\")"
   ]
  },
  {
   "cell_type": "code",
   "execution_count": 23,
   "id": "18fdb70c",
   "metadata": {},
   "outputs": [],
   "source": [
    "df[\"Age\"]=df[\"Age\"].astype(\"float64\")"
   ]
  },
  {
   "cell_type": "code",
   "execution_count": 24,
   "id": "412c34f4",
   "metadata": {},
   "outputs": [],
   "source": [
    "df[\"AI\"]=df[\"AI\"].astype(\"float64\")"
   ]
  },
  {
   "cell_type": "code",
   "execution_count": 25,
   "id": "ab7a2308",
   "metadata": {},
   "outputs": [],
   "source": [
    "df[\"NLP\"]=df[\"NLP\"].astype(\"float64\")"
   ]
  },
  {
   "cell_type": "code",
   "execution_count": 26,
   "id": "1a9e572c",
   "metadata": {},
   "outputs": [],
   "source": [
    "df[\"Cv\"]=df[\"Cv\"].astype(\"float64\")"
   ]
  },
  {
   "cell_type": "code",
   "execution_count": 27,
   "id": "48d0b8a9",
   "metadata": {},
   "outputs": [
    {
     "data": {
      "text/plain": [
       "71.33333333333333"
      ]
     },
     "execution_count": 27,
     "metadata": {},
     "output_type": "execute_result"
    }
   ],
   "source": [
    "df[\"Python\"].mean()"
   ]
  },
  {
   "cell_type": "code",
   "execution_count": 29,
   "id": "460b371e",
   "metadata": {},
   "outputs": [],
   "source": [
    "df[\"Python\"].fillna(df[\"Python\"].mean(),inplace=True)"
   ]
  },
  {
   "cell_type": "code",
   "execution_count": 30,
   "id": "c4031a3f",
   "metadata": {},
   "outputs": [],
   "source": [
    "df[\"Machine Learning\"].fillna(df[\"Machine Learning\"].mean(),inplace=True)"
   ]
  },
  {
   "cell_type": "code",
   "execution_count": 31,
   "id": "ac060a50",
   "metadata": {},
   "outputs": [],
   "source": [
    "df[\"Age\"].fillna(df[\"Age\"].mean(),inplace=True)"
   ]
  },
  {
   "cell_type": "code",
   "execution_count": 32,
   "id": "bb9b1f32",
   "metadata": {},
   "outputs": [],
   "source": [
    "df[\"AI\"].fillna(df[\"AI\"].mean(),inplace=True)"
   ]
  },
  {
   "cell_type": "code",
   "execution_count": 34,
   "id": "18b1a99a",
   "metadata": {},
   "outputs": [],
   "source": [
    "df[\"NLP\"].fillna(df[\"NLP\"].mean(),inplace=True)"
   ]
  },
  {
   "cell_type": "code",
   "execution_count": 35,
   "id": "b01f04cf",
   "metadata": {},
   "outputs": [],
   "source": [
    "df[\"Cv\"].fillna(df[\"Cv\"].mean(),inplace=True)"
   ]
  },
  {
   "cell_type": "code",
   "execution_count": 36,
   "id": "77837841",
   "metadata": {},
   "outputs": [
    {
     "name": "stdout",
     "output_type": "stream",
     "text": [
      "<class 'pandas.core.frame.DataFrame'>\n",
      "RangeIndex: 10 entries, 0 to 9\n",
      "Data columns (total 7 columns):\n",
      " #   Column            Non-Null Count  Dtype  \n",
      "---  ------            --------------  -----  \n",
      " 0   Name              10 non-null     object \n",
      " 1   Python            10 non-null     float64\n",
      " 2   Machine Learning  10 non-null     float64\n",
      " 3   Age               10 non-null     float64\n",
      " 4   AI                10 non-null     float64\n",
      " 5   NLP               10 non-null     float64\n",
      " 6   Cv                10 non-null     float64\n",
      "dtypes: float64(6), object(1)\n",
      "memory usage: 692.0+ bytes\n"
     ]
    }
   ],
   "source": [
    "df.info()"
   ]
  },
  {
   "cell_type": "code",
   "execution_count": 37,
   "id": "fc77195c",
   "metadata": {},
   "outputs": [
    {
     "data": {
      "text/html": [
       "<div>\n",
       "<style scoped>\n",
       "    .dataframe tbody tr th:only-of-type {\n",
       "        vertical-align: middle;\n",
       "    }\n",
       "\n",
       "    .dataframe tbody tr th {\n",
       "        vertical-align: top;\n",
       "    }\n",
       "\n",
       "    .dataframe thead th {\n",
       "        text-align: right;\n",
       "    }\n",
       "</style>\n",
       "<table border=\"1\" class=\"dataframe\">\n",
       "  <thead>\n",
       "    <tr style=\"text-align: right;\">\n",
       "      <th></th>\n",
       "      <th>Name</th>\n",
       "      <th>Python</th>\n",
       "      <th>Machine Learning</th>\n",
       "      <th>Age</th>\n",
       "      <th>AI</th>\n",
       "      <th>NLP</th>\n",
       "      <th>Cv</th>\n",
       "    </tr>\n",
       "  </thead>\n",
       "  <tbody>\n",
       "    <tr>\n",
       "      <th>0</th>\n",
       "      <td>jay</td>\n",
       "      <td>90.000000</td>\n",
       "      <td>67.0</td>\n",
       "      <td>23.0</td>\n",
       "      <td>90.000000</td>\n",
       "      <td>71.333333</td>\n",
       "      <td>23.0</td>\n",
       "    </tr>\n",
       "    <tr>\n",
       "      <th>1</th>\n",
       "      <td>raj</td>\n",
       "      <td>71.333333</td>\n",
       "      <td>89.0</td>\n",
       "      <td>22.4</td>\n",
       "      <td>71.333333</td>\n",
       "      <td>89.000000</td>\n",
       "      <td>22.4</td>\n",
       "    </tr>\n",
       "    <tr>\n",
       "      <th>2</th>\n",
       "      <td>kumar</td>\n",
       "      <td>78.000000</td>\n",
       "      <td>78.0</td>\n",
       "      <td>22.4</td>\n",
       "      <td>78.000000</td>\n",
       "      <td>78.000000</td>\n",
       "      <td>22.4</td>\n",
       "    </tr>\n",
       "    <tr>\n",
       "      <th>3</th>\n",
       "      <td>suraj</td>\n",
       "      <td>71.333333</td>\n",
       "      <td>67.0</td>\n",
       "      <td>22.4</td>\n",
       "      <td>71.333333</td>\n",
       "      <td>71.333333</td>\n",
       "      <td>22.4</td>\n",
       "    </tr>\n",
       "    <tr>\n",
       "      <th>4</th>\n",
       "      <td>pawan</td>\n",
       "      <td>71.333333</td>\n",
       "      <td>67.0</td>\n",
       "      <td>21.0</td>\n",
       "      <td>71.333333</td>\n",
       "      <td>71.333333</td>\n",
       "      <td>21.0</td>\n",
       "    </tr>\n",
       "    <tr>\n",
       "      <th>5</th>\n",
       "      <td>viraj</td>\n",
       "      <td>65.000000</td>\n",
       "      <td>56.0</td>\n",
       "      <td>22.0</td>\n",
       "      <td>65.000000</td>\n",
       "      <td>56.000000</td>\n",
       "      <td>22.0</td>\n",
       "    </tr>\n",
       "    <tr>\n",
       "      <th>6</th>\n",
       "      <td>vijay</td>\n",
       "      <td>45.000000</td>\n",
       "      <td>67.0</td>\n",
       "      <td>22.4</td>\n",
       "      <td>45.000000</td>\n",
       "      <td>67.000000</td>\n",
       "      <td>22.4</td>\n",
       "    </tr>\n",
       "    <tr>\n",
       "      <th>7</th>\n",
       "      <td>sumit</td>\n",
       "      <td>80.000000</td>\n",
       "      <td>45.0</td>\n",
       "      <td>24.0</td>\n",
       "      <td>80.000000</td>\n",
       "      <td>45.000000</td>\n",
       "      <td>24.0</td>\n",
       "    </tr>\n",
       "    <tr>\n",
       "      <th>8</th>\n",
       "      <td>akash</td>\n",
       "      <td>70.000000</td>\n",
       "      <td>67.0</td>\n",
       "      <td>22.4</td>\n",
       "      <td>70.000000</td>\n",
       "      <td>67.000000</td>\n",
       "      <td>22.4</td>\n",
       "    </tr>\n",
       "    <tr>\n",
       "      <th>9</th>\n",
       "      <td>sujit</td>\n",
       "      <td>71.333333</td>\n",
       "      <td>67.0</td>\n",
       "      <td>22.0</td>\n",
       "      <td>71.333333</td>\n",
       "      <td>71.333333</td>\n",
       "      <td>22.0</td>\n",
       "    </tr>\n",
       "  </tbody>\n",
       "</table>\n",
       "</div>"
      ],
      "text/plain": [
       "    Name     Python  Machine Learning   Age         AI        NLP    Cv\n",
       "0    jay  90.000000              67.0  23.0  90.000000  71.333333  23.0\n",
       "1    raj  71.333333              89.0  22.4  71.333333  89.000000  22.4\n",
       "2  kumar  78.000000              78.0  22.4  78.000000  78.000000  22.4\n",
       "3  suraj  71.333333              67.0  22.4  71.333333  71.333333  22.4\n",
       "4  pawan  71.333333              67.0  21.0  71.333333  71.333333  21.0\n",
       "5  viraj  65.000000              56.0  22.0  65.000000  56.000000  22.0\n",
       "6  vijay  45.000000              67.0  22.4  45.000000  67.000000  22.4\n",
       "7  sumit  80.000000              45.0  24.0  80.000000  45.000000  24.0\n",
       "8  akash  70.000000              67.0  22.4  70.000000  67.000000  22.4\n",
       "9  sujit  71.333333              67.0  22.0  71.333333  71.333333  22.0"
      ]
     },
     "execution_count": 37,
     "metadata": {},
     "output_type": "execute_result"
    }
   ],
   "source": [
    "df"
   ]
  },
  {
   "cell_type": "code",
   "execution_count": null,
   "id": "46f191bb",
   "metadata": {},
   "outputs": [],
   "source": []
  }
 ],
 "metadata": {
  "kernelspec": {
   "display_name": "Python 3 (ipykernel)",
   "language": "python",
   "name": "python3"
  },
  "language_info": {
   "codemirror_mode": {
    "name": "ipython",
    "version": 3
   },
   "file_extension": ".py",
   "mimetype": "text/x-python",
   "name": "python",
   "nbconvert_exporter": "python",
   "pygments_lexer": "ipython3",
   "version": "3.11.4"
  }
 },
 "nbformat": 4,
 "nbformat_minor": 5
}
