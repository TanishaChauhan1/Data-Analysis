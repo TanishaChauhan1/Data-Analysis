{
 "cells": [
  {
   "cell_type": "markdown",
   "id": "38e2d565",
   "metadata": {},
   "source": [
    "Ordinary Least Square method ->                                   \n",
    "The ordinary least square or ols method is used in linear regression to estimate the parameters also called as coeffients of a linear model by minimizing the sum of squared differences between the observed value and predicted value.            \n",
    "In other words it tries to find the best fit line that minisized the overall squared errors.  \n",
    "The difference between prediction value and actual value is called as residual error.\n",
    "Here we need to adjust the coeffients to minimize the sum of squared residuals typically by using optimization techniques like gradient descent or normal equation.                                   "
   ]
  },
  {
   "cell_type": "markdown",
   "id": "0996d457",
   "metadata": {},
   "source": [
    "Residual Sum Of Squares(RSS) = ypredicted - (ȳactual) (ȳ means mean)                         \n",
    "cost =  ∑(RSS)²"
   ]
  },
  {
   "cell_type": "code",
   "execution_count": null,
   "id": "f71a7d57",
   "metadata": {},
   "outputs": [],
   "source": []
  }
 ],
 "metadata": {
  "kernelspec": {
   "display_name": "Python 3 (ipykernel)",
   "language": "python",
   "name": "python3"
  },
  "language_info": {
   "codemirror_mode": {
    "name": "ipython",
    "version": 3
   },
   "file_extension": ".py",
   "mimetype": "text/x-python",
   "name": "python",
   "nbconvert_exporter": "python",
   "pygments_lexer": "ipython3",
   "version": "3.11.4"
  }
 },
 "nbformat": 4,
 "nbformat_minor": 5
}
